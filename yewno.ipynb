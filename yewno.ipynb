{
 "cells": [
  {
   "cell_type": "code",
   "execution_count": null,
   "metadata": {
    "collapsed": true
   },
   "outputs": [],
   "source": [
    "import pandas\n",
    "import pickle\n",
    "\n",
    "import pandas as pd\n",
    "import seaborn as sns\n",
    "import platform\n",
    "import re\n",
    "from tqdm import tqdm"
   ]
  },
  {
   "cell_type": "code",
   "execution_count": null,
   "outputs": [],
   "source": [
    "YEWNO_DATA_PATH = '/Users/khoanguyen/Workspace/dataset/Yewno/ms_yewno_2020.pickle'\n",
    "EDF_DATA_PATH = '/Users/khoanguyen/Workspace/dataset/edf_msft/MSFT_Jul2019_2020_linebreak'\n",
    "FILTERED_YEWNO_PATH = '/Users/khoanguyen/Workspace/dataset/Yewno/filtered_yewno.pickle'\n",
    "PERIOD_DATA_PATH = '/Users/khoanguyen/Workspace/dataset/edf_msft/'\n",
    "\n",
    "monthly_file =  ['2019-07-01', '2019-08-01', '2019-09-01', '2019-10-01', '2019-11-01',\n",
    "                 '2019-12-01', '2020-01-01', '2020-02-01', '2020-03-01', '2020-04-01',\n",
    "                 '2020-05-01', '2020-06-01', '2020-07-01']\n",
    "\n",
    "# Windows path\n",
    "if platform.system() == 'Windows':\n",
    "    YEWNO_DATA_PATH = 'K:\\\\Lbpam\\\\DG_Gestion_Quant\\\\GERANT\\\\Khoa\\\\yewno_ms_2020.pickle'\n",
    "    EDF_DATA_PATH = 'K:\\\\Lbpam\\\\DG_Gestion_Quant\\\\GERANT\\\\Khoa\\\\Data\\\\MSFT\\\\MSFT_Jul2019_2020_linebreak'\n",
    "    FILTERED_YEWNO_PATH = 'K:\\\\Lbpam\\\\DG_Gestion_Quant\\\\GERANT\\\\Khoa\\\\Data\\\\filtered_yewno.pickle'\n",
    "    PERIOD_DATA_PATH = 'K:\\\\Lbpam\\\\DG_Gestion_Quant\\\\GERANT\\\\Khoa\\\\Data\\\\MSFT\\\\'"
   ],
   "metadata": {
    "collapsed": false,
    "pycharm": {
     "name": "#%%\n"
    }
   }
  },
  {
   "cell_type": "code",
   "execution_count": null,
   "outputs": [],
   "source": [
    "with open(YEWNO_DATA_PATH, 'rb') as f:\n",
    "    yewno_data = pickle.load(f)"
   ],
   "metadata": {
    "collapsed": false,
    "pycharm": {
     "name": "#%%\n"
    }
   }
  },
  {
   "cell_type": "code",
   "execution_count": null,
   "outputs": [],
   "source": [
    "with open(EDF_DATA_PATH, 'rb') as f:\n",
    "    edf_data = pickle.load(f)"
   ],
   "metadata": {
    "collapsed": false,
    "pycharm": {
     "name": "#%%\n"
    }
   }
  },
  {
   "cell_type": "code",
   "execution_count": null,
   "outputs": [],
   "source": [
    "concept_count = []\n",
    "concept_list = yewno_data['Concept'].tolist()"
   ],
   "metadata": {
    "collapsed": false,
    "pycharm": {
     "name": "#%%\n"
    }
   }
  },
  {
   "cell_type": "code",
   "execution_count": null,
   "outputs": [],
   "source": [
    "for concept in tqdm(concept_list):\n",
    "    # take care of string that contains quantifier, which can cause wonky interaction with re.findall\n",
    "    if any(x in concept for x in ['+', '#', '.']):\n",
    "        concept = re.escape(concept)\n",
    "    # \\b is word boundary, which doesn't work with string like 'C++' where there's no word boundary after ++\n",
    "    re_string = r'(?:^|(?<=\\s))' + concept + r'(?=\\s|$)'\n",
    "\n",
    "    # used re.IGNORECASE so that there's no need to convert case for string and text\n",
    "    concept_per_doc = edf_data['text'].apply(lambda x: len(re.findall(re_string, x, flags=re.IGNORECASE)))\n",
    "    concept_count.append(concept_per_doc.sum())"
   ],
   "metadata": {
    "collapsed": false,
    "pycharm": {
     "name": "#%%\n"
    }
   }
  },
  {
   "cell_type": "code",
   "execution_count": null,
   "outputs": [],
   "source": [
    "yewno_data['edf_count'] = concept_count"
   ],
   "metadata": {
    "collapsed": false,
    "pycharm": {
     "name": "#%%\n"
    }
   }
  },
  {
   "cell_type": "code",
   "execution_count": null,
   "outputs": [],
   "source": [
    "filtering_results = yewno_data[yewno_data['edf_count'] >= 10]"
   ],
   "metadata": {
    "collapsed": false,
    "pycharm": {
     "name": "#%%\n"
    }
   }
  },
  {
   "cell_type": "code",
   "execution_count": null,
   "outputs": [],
   "source": [
    "filtering_results = filtering_results[(filtering_results['Pureplay'] > 0) &\n",
    "                                      (filtering_results['Contribution'] > 0)]"
   ],
   "metadata": {
    "collapsed": false,
    "pycharm": {
     "name": "#%%\n"
    }
   }
  },
  {
   "cell_type": "code",
   "execution_count": null,
   "outputs": [],
   "source": [
    "with open(FILTERED_YEWNO_PATH, 'wb') as f:\n",
    "    pickle.dump(filtering_results, f)"
   ],
   "metadata": {
    "collapsed": false,
    "pycharm": {
     "name": "#%%\n"
    }
   }
  },
  {
   "cell_type": "code",
   "execution_count": null,
   "outputs": [],
   "source": [
    "with open(FILTERED_YEWNO_PATH, 'rb') as f:\n",
    "    filter_yewno_data = pickle.load(f)"
   ],
   "metadata": {
    "collapsed": false,
    "pycharm": {
     "name": "#%%\n"
    }
   }
  },
  {
   "cell_type": "code",
   "execution_count": null,
   "outputs": [],
   "source": [
    "text_df = []\n",
    "\n",
    "for data in monthly_file:\n",
    "    with open(PERIOD_DATA_PATH + data, 'rb') as f:\n",
    "        df = pickle.load(f)\n",
    "        text_df.append(df)"
   ],
   "metadata": {
    "collapsed": false,
    "pycharm": {
     "name": "#%%\n"
    }
   }
  },
  {
   "cell_type": "code",
   "execution_count": null,
   "outputs": [],
   "source": [
    "concept_list = filter_yewno_data['Concept'].tolist()\n",
    "\n",
    "word_count_df = pd.DataFrame(index=monthly_file)\n",
    "period_count = []\n",
    "word_count = [[] for i in range(len(concept_list))]\n",
    "\n",
    "for df in tqdm(text_df):\n",
    "    for i in range(len(concept_list)):\n",
    "        concept = concept_list[i]\n",
    "        re_string = r'(?:^|(?<=\\s))' + concept + r'(?=\\s|$)'\n",
    "        kw_per_doc = df['text'].str.count(re_string, flags=re.IGNORECASE)\n",
    "        word_count[i].append(kw_per_doc.sum())\n",
    "\n",
    "for i in range(len(concept_list)):\n",
    "    word_count_df[concept_list[i]] = word_count[i]\n",
    "word_count_df.fillna(0, inplace=True)"
   ],
   "metadata": {
    "collapsed": false,
    "pycharm": {
     "name": "#%%\n"
    }
   }
  },
  {
   "cell_type": "code",
   "execution_count": null,
   "outputs": [],
   "source": [
    "# dask testing\n",
    "import dask.dataframe as dd\n",
    "\n",
    "dask_dataset = []\n",
    "for df in text_df:\n",
    "    ddf = dd.from_pandas(df, npartitions=2)\n",
    "    dask_dataset.append(ddf)\n"
   ],
   "metadata": {
    "collapsed": false,
    "pycharm": {
     "name": "#%%\n"
    }
   }
  },
  {
   "cell_type": "code",
   "execution_count": null,
   "outputs": [],
   "source": [
    "word_count_df = pd.DataFrame(index=monthly_file)\n",
    "period_count = []\n",
    "word_count = [[] for i in range(len(concept_list))]\n",
    "\n",
    "for ddf in tqdm(dask_dataset):\n",
    "    for i in range(len(concept_list)):\n",
    "        concept = concept_list[i]\n",
    "        re_string = r'(?:^|(?<=\\s))' + concept + r'(?=\\s|$)'\n",
    "        findall_doc = ddf['text'].str.count(re_string, flags=re.IGNORECASE)\n",
    "        word_count[i].append(findall_doc.sum().compute())\n",
    "\n",
    "for i in range(len(concept_list)):\n",
    "    word_count_df[concept_list[i]] = word_count[i]\n",
    "word_count_df.fillna(0, inplace=True)"
   ],
   "metadata": {
    "collapsed": false,
    "pycharm": {
     "name": "#%%\n"
    }
   }
  },
  {
   "cell_type": "code",
   "execution_count": null,
   "outputs": [],
   "source": [],
   "metadata": {
    "collapsed": false,
    "pycharm": {
     "name": "#%%\n"
    }
   }
  }
 ],
 "metadata": {
  "kernelspec": {
   "display_name": "Python 3",
   "language": "python",
   "name": "python3"
  },
  "language_info": {
   "codemirror_mode": {
    "name": "ipython",
    "version": 2
   },
   "file_extension": ".py",
   "mimetype": "text/x-python",
   "name": "python",
   "nbconvert_exporter": "python",
   "pygments_lexer": "ipython2",
   "version": "2.7.6"
  }
 },
 "nbformat": 4,
 "nbformat_minor": 0
}