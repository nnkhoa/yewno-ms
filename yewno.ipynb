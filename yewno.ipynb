{
 "cells": [
  {
   "cell_type": "code",
   "execution_count": 2,
   "metadata": {
    "collapsed": true
   },
   "outputs": [],
   "source": [
    "import pandas\n",
    "import pickle\n",
    "\n",
    "import pandas as pd\n",
    "import seaborn as sns\n",
    "import platform\n",
    "import re\n",
    "from tqdm import tqdm"
   ]
  },
  {
   "cell_type": "code",
   "execution_count": 3,
   "outputs": [],
   "source": [
    "YEWNO_DATA_PATH = '/Users/khoanguyen/Workspace/dataset/Yewno/ms_yewno_2020.pickle'\n",
    "EDF_DATA_PATH = '/Users/khoanguyen/Workspace/dataset/edf_msft/MSFT_Jul2019_2020_linebreak'\n",
    "FILTERED_YEWNO_PATH = '/Users/khoanguyen/Workspace/dataset/Yewno/filtered_yewno.pickle'\n",
    "YEWNO_CONCEPT_DICT_PATH = '/Users/khoanguyen/Workspace/dataset/Yewno/yewno_concept_dict.pickle'\n",
    "PERIOD_DATA_PATH = '/Users/khoanguyen/Workspace/dataset/edf_msft/'\n",
    "CONCEPT_COUNT_PATH = '/Users/khoanguyen/Workspace/dataset/Yewno/yewno-edf_concept_count.pickle'\n",
    "BIGRAM_CONCEPT_COUNT_PATH = '/Users/khoanguyen/Workspace/dataset/Yewno/yewno-edf_bigram_concept_count.pickle'\n",
    "\n",
    "monthly_file =  ['2019-07-01', '2019-08-01', '2019-09-01', '2019-10-01', '2019-11-01',\n",
    "                 '2019-12-01', '2020-01-01', '2020-02-01', '2020-03-01', '2020-04-01',\n",
    "                 '2020-05-01', '2020-06-01', '2020-07-01']\n",
    "\n",
    "# Windows path\n",
    "if platform.system() == 'Windows':\n",
    "    YEWNO_DATA_PATH = 'K:\\\\Lbpam\\\\DG_Gestion_Quant\\\\GERANT\\\\Khoa\\\\yewno_ms_2020.pickle'\n",
    "    EDF_DATA_PATH = 'K:\\\\Lbpam\\\\DG_Gestion_Quant\\\\GERANT\\\\Khoa\\\\Data\\\\MSFT\\\\MSFT_Jul2019_2020_linebreak'\n",
    "    FILTERED_YEWNO_PATH = 'K:\\\\Lbpam\\\\DG_Gestion_Quant\\\\GERANT\\\\Khoa\\\\Data\\\\filtered_yewno.pickle'\n",
    "    YEWNO_CONCEPT_DICT_PATH = 'K:\\\\Lbpam\\\\DG_Gestion_Quant\\\\GERANT\\\\Khoa\\\\yewno_concept_dict.pickle'\n",
    "    CONCEPT_COUNT_PATH = 'K:\\\\Lbpam\\\\DG_Gestion_Quant\\\\GERANT\\\\Khoa\\\\Data\\\\yewno-edf_concept_count.pickle'\n",
    "    BIGRAM_CONCEPT_COUNT_PATH = 'K:\\\\Lbpam\\\\DG_Gestion_Quant\\\\GERANT\\\\Khoa\\\\Data\\\\yewno-edf_bigram_concept_count.pickle'\n",
    "    PERIOD_DATA_PATH = 'K:\\\\Lbpam\\\\DG_Gestion_Quant\\\\GERANT\\\\Khoa\\\\Data\\\\MSFT\\\\'"
   ],
   "metadata": {
    "collapsed": false,
    "pycharm": {
     "name": "#%%\n"
    }
   }
  },
  {
   "cell_type": "code",
   "execution_count": 4,
   "outputs": [],
   "source": [
    "with open(YEWNO_DATA_PATH, 'rb') as f:\n",
    "    yewno_data = pickle.load(f)"
   ],
   "metadata": {
    "collapsed": false,
    "pycharm": {
     "name": "#%%\n"
    }
   }
  },
  {
   "cell_type": "code",
   "execution_count": 5,
   "outputs": [],
   "source": [
    "with open(EDF_DATA_PATH, 'rb') as f:\n",
    "    edf_data = pickle.load(f)"
   ],
   "metadata": {
    "collapsed": false,
    "pycharm": {
     "name": "#%%\n"
    }
   }
  },
  {
   "cell_type": "code",
   "execution_count": 6,
   "outputs": [],
   "source": [
    "with open(YEWNO_CONCEPT_DICT_PATH, 'rb') as f:\n",
    "    yewno_concept_dict = pickle.load(f)"
   ],
   "metadata": {
    "collapsed": false,
    "pycharm": {
     "name": "#%%\n"
    }
   }
  },
  {
   "cell_type": "code",
   "execution_count": 9,
   "outputs": [],
   "source": [
    "yewno_concept_dict.rename(columns={0: 'ID', 1: 'Definition', 2: 'Concept', 3: 'Hypernym', 4: 'Misc'}, inplace=True)"
   ],
   "metadata": {
    "collapsed": false,
    "pycharm": {
     "name": "#%%\n"
    }
   }
  },
  {
   "cell_type": "code",
   "execution_count": 12,
   "outputs": [],
   "source": [
    "with open(YEWNO_CONCEPT_DICT_PATH, 'wb') as f:\n",
    "    pickle.dump(yewno_concept_dict, f)"
   ],
   "metadata": {
    "collapsed": false,
    "pycharm": {
     "name": "#%%\n"
    }
   }
  },
  {
   "cell_type": "code",
   "execution_count": 7,
   "outputs": [],
   "source": [
    "yewno_structure = yewno_concept_dict[3].tolist()"
   ],
   "metadata": {
    "collapsed": false,
    "pycharm": {
     "name": "#%%\n"
    }
   }
  },
  {
   "cell_type": "code",
   "execution_count": null,
   "outputs": [],
   "source": [
    "concept_count = []\n",
    "concept_list = yewno_data['Concept'].tolist()"
   ],
   "metadata": {
    "collapsed": false,
    "pycharm": {
     "name": "#%%\n"
    }
   }
  },
  {
   "cell_type": "code",
   "execution_count": null,
   "outputs": [],
   "source": [
    "for concept in tqdm(concept_list):\n",
    "    # take care of string that contains quantifier, which can cause wonky interaction with re.findall\n",
    "    if any(x in concept for x in ['+', '#', '.']):\n",
    "        concept = re.escape(concept)\n",
    "    # \\b is word boundary, which doesn't work with string like 'C++' where there's no word boundary after ++\n",
    "    re_string = r'(?:^|(?<=\\s))' + concept + r'(?=\\s|$)'\n",
    "\n",
    "    # used re.IGNORECASE so that there's no need to convert case for string and text\n",
    "    concept_per_doc = edf_data['text'].apply(lambda x: len(re.findall(re_string, x, flags=re.IGNORECASE)))\n",
    "    concept_count.append(concept_per_doc.sum())"
   ],
   "metadata": {
    "collapsed": false,
    "pycharm": {
     "name": "#%%\n"
    }
   }
  },
  {
   "cell_type": "code",
   "execution_count": null,
   "outputs": [],
   "source": [
    "yewno_data['edf_count'] = concept_count"
   ],
   "metadata": {
    "collapsed": false,
    "pycharm": {
     "name": "#%%\n"
    }
   }
  },
  {
   "cell_type": "code",
   "execution_count": null,
   "outputs": [],
   "source": [
    "filtering_results = yewno_data[yewno_data['edf_count'] >= 10]"
   ],
   "metadata": {
    "collapsed": false,
    "pycharm": {
     "name": "#%%\n"
    }
   }
  },
  {
   "cell_type": "code",
   "execution_count": null,
   "outputs": [],
   "source": [
    "filtering_results = filtering_results[(filtering_results['Pureplay'] > 0) &\n",
    "                                      (filtering_results['Contribution'] > 0)]"
   ],
   "metadata": {
    "collapsed": false,
    "pycharm": {
     "name": "#%%\n"
    }
   }
  },
  {
   "cell_type": "code",
   "execution_count": null,
   "outputs": [],
   "source": [
    "with open(FILTERED_YEWNO_PATH, 'wb') as f:\n",
    "    pickle.dump(filtering_results, f)"
   ],
   "metadata": {
    "collapsed": false,
    "pycharm": {
     "name": "#%%\n"
    }
   }
  },
  {
   "cell_type": "code",
   "execution_count": null,
   "outputs": [],
   "source": [
    "with open(FILTERED_YEWNO_PATH, 'rb') as f:\n",
    "    filter_yewno_data = pickle.load(f)"
   ],
   "metadata": {
    "collapsed": false,
    "pycharm": {
     "name": "#%%\n"
    }
   }
  },
  {
   "cell_type": "code",
   "execution_count": null,
   "outputs": [],
   "source": [
    "text_df = []\n",
    "\n",
    "for data in monthly_file:\n",
    "    with open(PERIOD_DATA_PATH + data, 'rb') as f:\n",
    "        df = pickle.load(f)\n",
    "        text_df.append(df)"
   ],
   "metadata": {
    "collapsed": false,
    "pycharm": {
     "name": "#%%\n"
    }
   }
  },
  {
   "cell_type": "code",
   "execution_count": null,
   "outputs": [],
   "source": [
    "concept_list = filter_yewno_data['Concept'].tolist()\n",
    "\n",
    "word_count_df = pd.DataFrame(index=monthly_file)\n",
    "period_count = []\n",
    "word_count = [[] for i in range(len(concept_list))]\n",
    "\n",
    "for df in tqdm(text_df):\n",
    "    for i in range(len(concept_list)):\n",
    "        concept = concept_list[i]\n",
    "\n",
    "        if any(x in concept for x in ['+', '#', '.']):\n",
    "            concept = re.escape(concept)\n",
    "\n",
    "        re_string = r'(?:^|(?<=\\s))' + concept + r'(?=\\s|$)'\n",
    "        kw_per_doc = df['text'].str.count(re_string, flags=re.IGNORECASE)\n",
    "        word_count[i].append(kw_per_doc.sum())\n",
    "\n",
    "for i in range(len(concept_list)):\n",
    "    word_count_df[concept_list[i]] = word_count[i]\n",
    "word_count_df.fillna(0, inplace=True)"
   ],
   "metadata": {
    "collapsed": false,
    "pycharm": {
     "name": "#%%\n"
    }
   }
  },
  {
   "cell_type": "code",
   "execution_count": null,
   "outputs": [],
   "source": [
    "%%script false --no-raise-error\n",
    "# dask testing\n",
    "import dask.dataframe as dd\n",
    "\n",
    "dask_dataset = []\n",
    "for df in text_df:\n",
    "    ddf = dd.from_pandas(df, npartitions=4)\n",
    "    dask_dataset.append(ddf)\n"
   ],
   "metadata": {
    "collapsed": false,
    "pycharm": {
     "name": "#%%\n"
    }
   }
  },
  {
   "cell_type": "code",
   "execution_count": null,
   "outputs": [],
   "source": [
    "%%script false --no-raise-error\n",
    "\n",
    "word_count_df = pd.DataFrame(index=monthly_file)\n",
    "period_count = []\n",
    "word_count = [[] for i in range(len(concept_list))]\n",
    "\n",
    "for ddf in tqdm(dask_dataset):\n",
    "    for i in range(len(concept_list)):\n",
    "        concept = concept_list[i]\n",
    "\n",
    "        if any(x in concept for x in ['+', '#', '.']):\n",
    "            concept = re.escape(concept)\n",
    "\n",
    "        re_string = r'(?:^|(?<=\\s))' + concept + r'(?=\\s|$)'\n",
    "        findall_doc = ddf['text'].str.count(re_string, flags=re.IGNORECASE)\n",
    "        word_count[i].append(findall_doc.sum().compute())\n",
    "\n",
    "for i in range(len(concept_list)):\n",
    "    word_count_df[concept_list[i]] = word_count[i]\n",
    "word_count_df.fillna(0, inplace=True)"
   ],
   "metadata": {
    "collapsed": false,
    "pycharm": {
     "name": "#%%\n"
    }
   }
  },
  {
   "cell_type": "code",
   "execution_count": null,
   "outputs": [],
   "source": [
    "with open(CONCEPT_COUNT_PATH, 'wb') as f:\n",
    "    pickle.dump(word_count_df, f)"
   ],
   "metadata": {
    "collapsed": false,
    "pycharm": {
     "name": "#%%\n"
    }
   }
  },
  {
   "cell_type": "code",
   "execution_count": null,
   "outputs": [],
   "source": [
    "with open(CONCEPT_COUNT_PATH, 'rb') as f:\n",
    "    word_count_df = pickle.load(f)"
   ],
   "metadata": {
    "collapsed": false,
    "pycharm": {
     "name": "#%%\n"
    }
   }
  },
  {
   "cell_type": "code",
   "execution_count": null,
   "outputs": [],
   "source": [
    "bigram_concept_list = []\n",
    "for concept in word_count_df.columns.tolist():\n",
    "    if ' ' in concept:\n",
    "        bigram_concept_list.append(concept)\n",
    "\n",
    "bigram_word_count_df = word_count_df[bigram_concept_list]"
   ],
   "metadata": {
    "collapsed": false,
    "pycharm": {
     "name": "#%%\n"
    }
   }
  },
  {
   "cell_type": "code",
   "execution_count": null,
   "outputs": [],
   "source": [
    "with open(BIGRAM_CONCEPT_COUNT_PATH, 'wb') as f:\n",
    "    pickle.dump(bigram_word_count_df, f)"
   ],
   "metadata": {
    "collapsed": false,
    "pycharm": {
     "name": "#%%\n"
    }
   }
  },
  {
   "cell_type": "code",
   "execution_count": null,
   "outputs": [],
   "source": [
    "with open(BIGRAM_CONCEPT_COUNT_PATH, 'rb') as f:\n",
    "    bigram_word_count_df = pickle.load(f)"
   ],
   "metadata": {
    "collapsed": false,
    "pycharm": {
     "name": "#%%\n"
    }
   }
  },
  {
   "cell_type": "code",
   "execution_count": null,
   "outputs": [],
   "source": [
    "bigram_word_count_df.T"
   ],
   "metadata": {
    "collapsed": false,
    "pycharm": {
     "name": "#%%\n"
    }
   }
  },
  {
   "cell_type": "code",
   "execution_count": null,
   "outputs": [],
   "source": [
    "yewno_filtered_bigram = filter_yewno_data[filter_yewno_data['Concept'].isin(bigram_concept_list)]"
   ],
   "metadata": {
    "collapsed": false,
    "pycharm": {
     "name": "#%%\n"
    }
   }
  },
  {
   "cell_type": "markdown",
   "source": [
    "## Note on this snippet Yewno data\n",
    "\n",
    "* Total of 16460 concepts, in 1st half of 2020\n",
    "* Some concept with 0 Contribution/PurePlay score did not appear in this period\n",
    "* Some concept is not quite relevant (e.g. \"Hello, World!\" program, ABCDE, etc.) or are generic (e.g. Computer, Software, etc.)\n",
    "\n",
    "## Observation\n",
    "\n",
    "Counting frequency of appearances in EDF Microsoft data\n",
    "* Only ~960 concepts appeared more than 10 times\n",
    "\n",
    "From the list of keyword initially picked from previous work\n",
    "Some keywords did not have any Contribution/PurePlay score in this snippet of Yewno data:\n",
    "* Digital Transformation\n",
    "* Microsoft Team\n",
    "\n",
    "Keywords that appeared as part of other concepts:\n",
    "* Healthcare (Healthcare Holdings Group, Healthcare Product Holdings)\n",
    "\n",
    "Keywords that did not appear in Yewno (yet have some relating concepts):\n",
    "* Remote work\n",
    "* Storage Server\n",
    "* Data Center\n",
    "* Cloud Solution\n",
    "\n",
    "## Remarks\n",
    "\n",
    "* Concepts appearances in Yewno before reach the mass media, or haven't make any presence  at all\n",
    "*"
   ],
   "metadata": {
    "collapsed": false
   }
  },
  {
   "cell_type": "code",
   "execution_count": null,
   "outputs": [],
   "source": [
    "yewno_data[yewno_data['Concept'].str.contains('Remote', case=False)]"
   ],
   "metadata": {
    "collapsed": false,
    "pycharm": {
     "name": "#%%\n"
    }
   }
  }
 ],
 "metadata": {
  "kernelspec": {
   "display_name": "Python 3",
   "language": "python",
   "name": "python3"
  },
  "language_info": {
   "codemirror_mode": {
    "name": "ipython",
    "version": 2
   },
   "file_extension": ".py",
   "mimetype": "text/x-python",
   "name": "python",
   "nbconvert_exporter": "python",
   "pygments_lexer": "ipython2",
   "version": "2.7.6"
  }
 },
 "nbformat": 4,
 "nbformat_minor": 0
}