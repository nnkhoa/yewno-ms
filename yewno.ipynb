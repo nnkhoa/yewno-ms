{
 "cells": [
  {
   "cell_type": "code",
   "execution_count": 1,
   "metadata": {
    "collapsed": true
   },
   "outputs": [],
   "source": [
    "import pandas\n",
    "import pickle\n",
    "\n",
    "import pandas as pd\n",
    "import seaborn as sns\n",
    "import platform\n",
    "import re\n",
    "from tqdm import tqdm"
   ]
  },
  {
   "cell_type": "code",
   "execution_count": 15,
   "outputs": [],
   "source": [
    "YEWNO_DATA_PATH = '/Users/khoanguyen/Workspace/dataset/Yewno/ms_yewno_2020.pickle'\n",
    "EDF_DATA_PATH = '/Users/khoanguyen/Workspace/dataset/edf_msft/MSFT_Jul2019_2020_linebreak'\n",
    "FILTERED_YEWNO_PATH = '/Users/khoanguyen/Workspace/dataset/Yewno/filtered_yewno.pickle'\n",
    "\n",
    "# Windows path\n",
    "if platform.system() == 'Windows':\n",
    "    YEWNO_DATA_PATH = 'K:\\\\Lbpam\\\\DG_Gestion_Quant\\\\GERANT\\\\Khoa\\\\yewno_ms_2020.pickle'\n",
    "    EDF_DATA_PATH = 'K:\\\\Lbpam\\\\DG_Gestion_Quant\\\\GERANT\\\\Khoa\\\\Data\\\\MSFT\\\\MSFT_Jul2019_2020_linebreak'\n",
    "    FILTERED_YEWNO_PATH = 'K:\\\\Lbpam\\\\DG_Gestion_Quant\\\\GERANT\\\\Khoa\\\\Data\\\\filtered_yewno.pickle'"
   ],
   "metadata": {
    "collapsed": false,
    "pycharm": {
     "name": "#%%\n"
    }
   }
  },
  {
   "cell_type": "code",
   "execution_count": 3,
   "outputs": [],
   "source": [
    "with open(YEWNO_DATA_PATH, 'rb') as f:\n",
    "    yewno_data = pickle.load(f)"
   ],
   "metadata": {
    "collapsed": false,
    "pycharm": {
     "name": "#%%\n"
    }
   }
  },
  {
   "cell_type": "code",
   "execution_count": 4,
   "outputs": [],
   "source": [
    "with open(EDF_DATA_PATH, 'rb') as f:\n",
    "    edf_data = pickle.load(f)"
   ],
   "metadata": {
    "collapsed": false,
    "pycharm": {
     "name": "#%%\n"
    }
   }
  },
  {
   "cell_type": "code",
   "execution_count": 5,
   "outputs": [
    {
     "data": {
      "text/plain": "0.9771604537963867"
     },
     "execution_count": 5,
     "metadata": {},
     "output_type": "execute_result"
    }
   ],
   "source": [
    "yewno_data['Contribution'].sum()"
   ],
   "metadata": {
    "collapsed": false,
    "pycharm": {
     "name": "#%%\n"
    }
   }
  },
  {
   "cell_type": "code",
   "execution_count": 6,
   "outputs": [],
   "source": [
    "concept_count = []\n",
    "concept_list = yewno_data['Concept'].tolist()"
   ],
   "metadata": {
    "collapsed": false,
    "pycharm": {
     "name": "#%%\n"
    }
   }
  },
  {
   "cell_type": "code",
   "execution_count": 7,
   "outputs": [
    {
     "name": "stderr",
     "output_type": "stream",
     "text": [
      "100%|██████████████████████████████████████████████████████████████████████████| 16460/16460 [8:32:28<00:00,  1.87s/it]\n"
     ]
    }
   ],
   "source": [
    "for concept in tqdm(concept_list):\n",
    "    # take care of string that contains quantifier, which can cause wonky interaction with re.findall\n",
    "    if any(x in concept for x in ['+', '#', '.']):\n",
    "        concept = re.escape(concept)\n",
    "    # \\b is word boundary, which doesn't work with string like 'C++' where there's no word boundary after ++\n",
    "    re_string = r'(?:^|(?<=\\s))' + concept + r'(?=\\s|$)'\n",
    "\n",
    "    # used re.IGNORECASE so that there's no need to convert case for string and text\n",
    "    concept_per_doc = edf_data['text'].apply(lambda x: len(re.findall(re_string, x, flags=re.IGNORECASE)))\n",
    "    concept_count.append(concept_per_doc.sum())"
   ],
   "metadata": {
    "collapsed": false,
    "pycharm": {
     "name": "#%%\n"
    }
   }
  },
  {
   "cell_type": "code",
   "execution_count": 8,
   "outputs": [],
   "source": [
    "yewno_data['edf_count'] = concept_count"
   ],
   "metadata": {
    "collapsed": false,
    "pycharm": {
     "name": "#%%\n"
    }
   }
  },
  {
   "cell_type": "code",
   "execution_count": 13,
   "outputs": [],
   "source": [
    "filtering_results = yewno_data[yewno_data['edf_count'] >= 10]"
   ],
   "metadata": {
    "collapsed": false,
    "pycharm": {
     "name": "#%%\n"
    }
   }
  },
  {
   "cell_type": "code",
   "execution_count": 14,
   "outputs": [],
   "source": [
    "filtering_results = filtering_results[(filtering_results['Pureplay'] > 0) &\n",
    "                                      (filtering_results['Contribution'] > 0)]"
   ],
   "metadata": {
    "collapsed": false,
    "pycharm": {
     "name": "#%%\n"
    }
   }
  },
  {
   "cell_type": "code",
   "execution_count": 16,
   "outputs": [],
   "source": [
    "with open(FILTERED_YEWNO_PATH, 'wb') as f:\n",
    "    pickle.dump(filtering_results, f)"
   ],
   "metadata": {
    "collapsed": false,
    "pycharm": {
     "name": "#%%\n"
    }
   }
  },
  {
   "cell_type": "code",
   "execution_count": null,
   "outputs": [],
   "source": [],
   "metadata": {
    "collapsed": false,
    "pycharm": {
     "name": "#%%\n"
    }
   }
  }
 ],
 "metadata": {
  "kernelspec": {
   "display_name": "Python 3",
   "language": "python",
   "name": "python3"
  },
  "language_info": {
   "codemirror_mode": {
    "name": "ipython",
    "version": 2
   },
   "file_extension": ".py",
   "mimetype": "text/x-python",
   "name": "python",
   "nbconvert_exporter": "python",
   "pygments_lexer": "ipython2",
   "version": "2.7.6"
  }
 },
 "nbformat": 4,
 "nbformat_minor": 0
}